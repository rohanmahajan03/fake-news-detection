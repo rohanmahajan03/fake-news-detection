{
 "cells": [
  {
   "cell_type": "markdown",
   "id": "3775fbac-56c6-4e18-8c0d-d891380f7e05",
   "metadata": {},
   "source": [
    "## Fake News Detection using Tensorflow (and Logistic Regression with TFIDF)- Rohan Mahajan 08/23"
   ]
  },
  {
   "cell_type": "markdown",
   "id": "397fc639-6684-4eec-ae7d-a71159c89d84",
   "metadata": {},
   "source": [
    "Steps:\n",
    "1. Importing data and initial preprocessing of data\n",
    "2. Tokenize, pad and further clean data\n",
    "3. Word Embedding\n",
    "4. Create, fit, and test Tensorflow model\n",
    "5. Visualize reults\n",
    "6. Train and Test regression model\n",
    "7. Conclusion"
   ]
  },
  {
   "cell_type": "markdown",
   "id": "ec3374ef-353b-46fb-9200-2cecccff2f93",
   "metadata": {},
   "source": [
    "#### 1. Importing data and Initial Pre-Processing of Data"
   ]
  },
  {
   "cell_type": "code",
   "execution_count": 2,
   "id": "203a72ee-5ef4-46e6-b6c1-2e3b2e809a28",
   "metadata": {},
   "outputs": [],
   "source": [
    "import pandas as pd\n",
    "import numpy as np\n",
    "import matplotlib.pyplot as plt"
   ]
  },
  {
   "cell_type": "code",
   "execution_count": 3,
   "id": "f08dcc1b-6e80-400f-8811-d1e154ebcd9b",
   "metadata": {},
   "outputs": [
    {
     "data": {
      "text/plain": [
       "(6335, 4)"
      ]
     },
     "execution_count": 3,
     "metadata": {},
     "output_type": "execute_result"
    }
   ],
   "source": [
    "df = pd.read_csv('/Users/rohanmahajan/Downloads/fake_or_real_news.csv')\n",
    "df.shape"
   ]
  },
  {
   "cell_type": "code",
   "execution_count": 4,
   "id": "3c8055d2-2918-4dd1-9a7b-79e47f05cbd6",
   "metadata": {},
   "outputs": [
    {
     "data": {
      "text/html": [
       "<div>\n",
       "<style scoped>\n",
       "    .dataframe tbody tr th:only-of-type {\n",
       "        vertical-align: middle;\n",
       "    }\n",
       "\n",
       "    .dataframe tbody tr th {\n",
       "        vertical-align: top;\n",
       "    }\n",
       "\n",
       "    .dataframe thead th {\n",
       "        text-align: right;\n",
       "    }\n",
       "</style>\n",
       "<table border=\"1\" class=\"dataframe\">\n",
       "  <thead>\n",
       "    <tr style=\"text-align: right;\">\n",
       "      <th></th>\n",
       "      <th>Unnamed: 0</th>\n",
       "      <th>title</th>\n",
       "      <th>text</th>\n",
       "      <th>label</th>\n",
       "    </tr>\n",
       "  </thead>\n",
       "  <tbody>\n",
       "    <tr>\n",
       "      <th>0</th>\n",
       "      <td>8476</td>\n",
       "      <td>You Can Smell Hillary’s Fear</td>\n",
       "      <td>Daniel Greenfield, a Shillman Journalism Fello...</td>\n",
       "      <td>FAKE</td>\n",
       "    </tr>\n",
       "    <tr>\n",
       "      <th>1</th>\n",
       "      <td>10294</td>\n",
       "      <td>Watch The Exact Moment Paul Ryan Committed Pol...</td>\n",
       "      <td>Google Pinterest Digg Linkedin Reddit Stumbleu...</td>\n",
       "      <td>FAKE</td>\n",
       "    </tr>\n",
       "    <tr>\n",
       "      <th>2</th>\n",
       "      <td>3608</td>\n",
       "      <td>Kerry to go to Paris in gesture of sympathy</td>\n",
       "      <td>U.S. Secretary of State John F. Kerry said Mon...</td>\n",
       "      <td>REAL</td>\n",
       "    </tr>\n",
       "    <tr>\n",
       "      <th>3</th>\n",
       "      <td>10142</td>\n",
       "      <td>Bernie supporters on Twitter erupt in anger ag...</td>\n",
       "      <td>— Kaydee King (@KaydeeKing) November 9, 2016 T...</td>\n",
       "      <td>FAKE</td>\n",
       "    </tr>\n",
       "    <tr>\n",
       "      <th>4</th>\n",
       "      <td>875</td>\n",
       "      <td>The Battle of New York: Why This Primary Matters</td>\n",
       "      <td>It's primary day in New York and front-runners...</td>\n",
       "      <td>REAL</td>\n",
       "    </tr>\n",
       "  </tbody>\n",
       "</table>\n",
       "</div>"
      ],
      "text/plain": [
       "   Unnamed: 0                                              title  \\\n",
       "0        8476                       You Can Smell Hillary’s Fear   \n",
       "1       10294  Watch The Exact Moment Paul Ryan Committed Pol...   \n",
       "2        3608        Kerry to go to Paris in gesture of sympathy   \n",
       "3       10142  Bernie supporters on Twitter erupt in anger ag...   \n",
       "4         875   The Battle of New York: Why This Primary Matters   \n",
       "\n",
       "                                                text label  \n",
       "0  Daniel Greenfield, a Shillman Journalism Fello...  FAKE  \n",
       "1  Google Pinterest Digg Linkedin Reddit Stumbleu...  FAKE  \n",
       "2  U.S. Secretary of State John F. Kerry said Mon...  REAL  \n",
       "3  — Kaydee King (@KaydeeKing) November 9, 2016 T...  FAKE  \n",
       "4  It's primary day in New York and front-runners...  REAL  "
      ]
     },
     "execution_count": 4,
     "metadata": {},
     "output_type": "execute_result"
    }
   ],
   "source": [
    "df.head()"
   ]
  },
  {
   "cell_type": "code",
   "execution_count": 5,
   "id": "9faf0c11-b24d-40d2-826f-63272d9b0af8",
   "metadata": {},
   "outputs": [
    {
     "data": {
      "text/html": [
       "<div>\n",
       "<style scoped>\n",
       "    .dataframe tbody tr th:only-of-type {\n",
       "        vertical-align: middle;\n",
       "    }\n",
       "\n",
       "    .dataframe tbody tr th {\n",
       "        vertical-align: top;\n",
       "    }\n",
       "\n",
       "    .dataframe thead th {\n",
       "        text-align: right;\n",
       "    }\n",
       "</style>\n",
       "<table border=\"1\" class=\"dataframe\">\n",
       "  <thead>\n",
       "    <tr style=\"text-align: right;\">\n",
       "      <th></th>\n",
       "      <th>text</th>\n",
       "      <th>label</th>\n",
       "    </tr>\n",
       "  </thead>\n",
       "  <tbody>\n",
       "    <tr>\n",
       "      <th>0</th>\n",
       "      <td>Daniel Greenfield, a Shillman Journalism Fello...</td>\n",
       "      <td>FAKE</td>\n",
       "    </tr>\n",
       "    <tr>\n",
       "      <th>1</th>\n",
       "      <td>Google Pinterest Digg Linkedin Reddit Stumbleu...</td>\n",
       "      <td>FAKE</td>\n",
       "    </tr>\n",
       "    <tr>\n",
       "      <th>2</th>\n",
       "      <td>U.S. Secretary of State John F. Kerry said Mon...</td>\n",
       "      <td>REAL</td>\n",
       "    </tr>\n",
       "    <tr>\n",
       "      <th>3</th>\n",
       "      <td>— Kaydee King (@KaydeeKing) November 9, 2016 T...</td>\n",
       "      <td>FAKE</td>\n",
       "    </tr>\n",
       "    <tr>\n",
       "      <th>4</th>\n",
       "      <td>It's primary day in New York and front-runners...</td>\n",
       "      <td>REAL</td>\n",
       "    </tr>\n",
       "  </tbody>\n",
       "</table>\n",
       "</div>"
      ],
      "text/plain": [
       "                                                text label\n",
       "0  Daniel Greenfield, a Shillman Journalism Fello...  FAKE\n",
       "1  Google Pinterest Digg Linkedin Reddit Stumbleu...  FAKE\n",
       "2  U.S. Secretary of State John F. Kerry said Mon...  REAL\n",
       "3  — Kaydee King (@KaydeeKing) November 9, 2016 T...  FAKE\n",
       "4  It's primary day in New York and front-runners...  REAL"
      ]
     },
     "execution_count": 5,
     "metadata": {},
     "output_type": "execute_result"
    }
   ],
   "source": [
    "#dropping unecessary columns\n",
    "df = df.drop(columns = 'title')\n",
    "df = df.drop(columns = 'Unnamed: 0')\n",
    "df.head()"
   ]
  },
  {
   "cell_type": "code",
   "execution_count": 6,
   "id": "158e09f1-9440-4780-af5e-c86d731a532e",
   "metadata": {},
   "outputs": [
    {
     "data": {
      "text/plain": [
       "text     0\n",
       "label    0\n",
       "dtype: int64"
      ]
     },
     "execution_count": 6,
     "metadata": {},
     "output_type": "execute_result"
    }
   ],
   "source": [
    "#checking our data for nulls\n",
    "df.isnull().sum()"
   ]
  },
  {
   "cell_type": "code",
   "execution_count": 7,
   "id": "a4ed454d-a8d5-44f8-a57d-a11b7f0f8f15",
   "metadata": {},
   "outputs": [
    {
     "data": {
      "text/plain": [
       "text     0\n",
       "label    0\n",
       "dtype: int64"
      ]
     },
     "execution_count": 7,
     "metadata": {},
     "output_type": "execute_result"
    }
   ],
   "source": [
    "df.dropna(subset=['text'], inplace=True)\n",
    "df.isnull().sum()"
   ]
  },
  {
   "cell_type": "code",
   "execution_count": 8,
   "id": "4a1daf2e-cf76-4e8b-8e54-e85e44f894fa",
   "metadata": {},
   "outputs": [
    {
     "data": {
      "text/plain": [
       "False"
      ]
     },
     "execution_count": 8,
     "metadata": {},
     "output_type": "execute_result"
    }
   ],
   "source": [
    "#checking text data for duplicates\n",
    "df['text'].is_unique"
   ]
  },
  {
   "cell_type": "code",
   "execution_count": 9,
   "id": "c36291bc-e5fe-415d-95d5-143abcb07572",
   "metadata": {},
   "outputs": [
    {
     "data": {
      "text/html": [
       "<div>\n",
       "<style scoped>\n",
       "    .dataframe tbody tr th:only-of-type {\n",
       "        vertical-align: middle;\n",
       "    }\n",
       "\n",
       "    .dataframe tbody tr th {\n",
       "        vertical-align: top;\n",
       "    }\n",
       "\n",
       "    .dataframe thead th {\n",
       "        text-align: right;\n",
       "    }\n",
       "</style>\n",
       "<table border=\"1\" class=\"dataframe\">\n",
       "  <thead>\n",
       "    <tr style=\"text-align: right;\">\n",
       "      <th></th>\n",
       "      <th>text</th>\n",
       "      <th>label</th>\n",
       "    </tr>\n",
       "  </thead>\n",
       "  <tbody>\n",
       "    <tr>\n",
       "      <th>61</th>\n",
       "      <td>On this day in 1973, J. Fred Buzhardt, a lawye...</td>\n",
       "      <td>REAL</td>\n",
       "    </tr>\n",
       "    <tr>\n",
       "      <th>90</th>\n",
       "      <td>Killing Obama administration rules, dismantlin...</td>\n",
       "      <td>REAL</td>\n",
       "    </tr>\n",
       "    <tr>\n",
       "      <th>157</th>\n",
       "      <td>Killing Obama administration rules, dismantlin...</td>\n",
       "      <td>REAL</td>\n",
       "    </tr>\n",
       "    <tr>\n",
       "      <th>233</th>\n",
       "      <td>On this day in 1973, J. Fred Buzhardt, a lawye...</td>\n",
       "      <td>REAL</td>\n",
       "    </tr>\n",
       "    <tr>\n",
       "      <th>316</th>\n",
       "      <td>Killing Obama administration rules, dismantlin...</td>\n",
       "      <td>REAL</td>\n",
       "    </tr>\n",
       "    <tr>\n",
       "      <th>...</th>\n",
       "      <td>...</td>\n",
       "      <td>...</td>\n",
       "    </tr>\n",
       "    <tr>\n",
       "      <th>6227</th>\n",
       "      <td>Email \\nISIS barbarians used an industrial dou...</td>\n",
       "      <td>FAKE</td>\n",
       "    </tr>\n",
       "    <tr>\n",
       "      <th>6233</th>\n",
       "      <td>Email \\nNorth Korea’s Foreign Ministry slammed...</td>\n",
       "      <td>FAKE</td>\n",
       "    </tr>\n",
       "    <tr>\n",
       "      <th>6250</th>\n",
       "      <td>A verdict in 2017 could have sweeping conseque...</td>\n",
       "      <td>REAL</td>\n",
       "    </tr>\n",
       "    <tr>\n",
       "      <th>6270</th>\n",
       "      <td>Killing Obama administration rules, dismantlin...</td>\n",
       "      <td>REAL</td>\n",
       "    </tr>\n",
       "    <tr>\n",
       "      <th>6328</th>\n",
       "      <td></td>\n",
       "      <td>FAKE</td>\n",
       "    </tr>\n",
       "  </tbody>\n",
       "</table>\n",
       "<p>275 rows × 2 columns</p>\n",
       "</div>"
      ],
      "text/plain": [
       "                                                   text label\n",
       "61    On this day in 1973, J. Fred Buzhardt, a lawye...  REAL\n",
       "90    Killing Obama administration rules, dismantlin...  REAL\n",
       "157   Killing Obama administration rules, dismantlin...  REAL\n",
       "233   On this day in 1973, J. Fred Buzhardt, a lawye...  REAL\n",
       "316   Killing Obama administration rules, dismantlin...  REAL\n",
       "...                                                 ...   ...\n",
       "6227  Email \\nISIS barbarians used an industrial dou...  FAKE\n",
       "6233  Email \\nNorth Korea’s Foreign Ministry slammed...  FAKE\n",
       "6250  A verdict in 2017 could have sweeping conseque...  REAL\n",
       "6270  Killing Obama administration rules, dismantlin...  REAL\n",
       "6328                                                     FAKE\n",
       "\n",
       "[275 rows x 2 columns]"
      ]
     },
     "execution_count": 9,
     "metadata": {},
     "output_type": "execute_result"
    }
   ],
   "source": [
    "#duplicate rows\n",
    "duplicate = df[df.duplicated('text')]\n",
    "duplicate"
   ]
  },
  {
   "cell_type": "code",
   "execution_count": 10,
   "id": "2c2b9e69-5d2e-4ef4-9334-581f7c6b36fd",
   "metadata": {},
   "outputs": [
    {
     "data": {
      "text/plain": [
       "(6060, 2)"
      ]
     },
     "execution_count": 10,
     "metadata": {},
     "output_type": "execute_result"
    }
   ],
   "source": [
    "df = df.drop_duplicates(subset=['text'], keep='first')\n",
    "df.shape"
   ]
  },
  {
   "cell_type": "code",
   "execution_count": 11,
   "id": "a20de40b-6ff0-4d26-b499-4e3443b7b3e3",
   "metadata": {},
   "outputs": [
    {
     "data": {
      "text/plain": [
       "True"
      ]
     },
     "execution_count": 11,
     "metadata": {},
     "output_type": "execute_result"
    }
   ],
   "source": [
    "#making sure we removed all duplicates in text column\n",
    "df['text'].is_unique"
   ]
  },
  {
   "cell_type": "code",
   "execution_count": 12,
   "id": "5a88a11b-fa23-4a56-a7c4-b3dd3c383d96",
   "metadata": {},
   "outputs": [
    {
     "data": {
      "text/html": [
       "<div>\n",
       "<style scoped>\n",
       "    .dataframe tbody tr th:only-of-type {\n",
       "        vertical-align: middle;\n",
       "    }\n",
       "\n",
       "    .dataframe tbody tr th {\n",
       "        vertical-align: top;\n",
       "    }\n",
       "\n",
       "    .dataframe thead th {\n",
       "        text-align: right;\n",
       "    }\n",
       "</style>\n",
       "<table border=\"1\" class=\"dataframe\">\n",
       "  <thead>\n",
       "    <tr style=\"text-align: right;\">\n",
       "      <th></th>\n",
       "      <th>text</th>\n",
       "      <th>label</th>\n",
       "    </tr>\n",
       "  </thead>\n",
       "  <tbody>\n",
       "    <tr>\n",
       "      <th>0</th>\n",
       "      <td>Daniel Greenfield, a Shillman Journalism Fello...</td>\n",
       "      <td>0</td>\n",
       "    </tr>\n",
       "    <tr>\n",
       "      <th>1</th>\n",
       "      <td>Google Pinterest Digg Linkedin Reddit Stumbleu...</td>\n",
       "      <td>0</td>\n",
       "    </tr>\n",
       "    <tr>\n",
       "      <th>2</th>\n",
       "      <td>U.S. Secretary of State John F. Kerry said Mon...</td>\n",
       "      <td>1</td>\n",
       "    </tr>\n",
       "    <tr>\n",
       "      <th>3</th>\n",
       "      <td>— Kaydee King (@KaydeeKing) November 9, 2016 T...</td>\n",
       "      <td>0</td>\n",
       "    </tr>\n",
       "    <tr>\n",
       "      <th>4</th>\n",
       "      <td>It's primary day in New York and front-runners...</td>\n",
       "      <td>1</td>\n",
       "    </tr>\n",
       "  </tbody>\n",
       "</table>\n",
       "</div>"
      ],
      "text/plain": [
       "                                                text  label\n",
       "0  Daniel Greenfield, a Shillman Journalism Fello...      0\n",
       "1  Google Pinterest Digg Linkedin Reddit Stumbleu...      0\n",
       "2  U.S. Secretary of State John F. Kerry said Mon...      1\n",
       "3  — Kaydee King (@KaydeeKing) November 9, 2016 T...      0\n",
       "4  It's primary day in New York and front-runners...      1"
      ]
     },
     "execution_count": 12,
     "metadata": {},
     "output_type": "execute_result"
    }
   ],
   "source": [
    "#label encoding our data in the 'label' column (0 for FAKE, 1 for REAL)\n",
    "from sklearn.preprocessing import LabelEncoder\n",
    "label_encoder = LabelEncoder()\n",
    "df['label'] = label_encoder.fit_transform(df['label'])\n",
    "df.head()"
   ]
  },
  {
   "cell_type": "code",
   "execution_count": 13,
   "id": "cd34bf6e-7078-4147-bd13-1a1ab8bea9b1",
   "metadata": {},
   "outputs": [
    {
     "name": "stdout",
     "output_type": "stream",
     "text": [
      "3071\n",
      "2989\n"
     ]
    }
   ],
   "source": [
    "#making sure we have a relatively even distribution of fake and real articles \n",
    "ones = []\n",
    "zeroes = []\n",
    "for e in df['label']:\n",
    "    if e == 0:\n",
    "        zeroes.append(e)\n",
    "    if e == 1:\n",
    "        ones.append(e)\n",
    "print(len(zeroes))\n",
    "print(len(ones))"
   ]
  },
  {
   "cell_type": "code",
   "execution_count": 14,
   "id": "fc678cdd-08cd-472d-93fb-b8d7e1d685fe",
   "metadata": {},
   "outputs": [
    {
     "data": {
      "text/html": [
       "<div>\n",
       "<style scoped>\n",
       "    .dataframe tbody tr th:only-of-type {\n",
       "        vertical-align: middle;\n",
       "    }\n",
       "\n",
       "    .dataframe tbody tr th {\n",
       "        vertical-align: top;\n",
       "    }\n",
       "\n",
       "    .dataframe thead th {\n",
       "        text-align: right;\n",
       "    }\n",
       "</style>\n",
       "<table border=\"1\" class=\"dataframe\">\n",
       "  <thead>\n",
       "    <tr style=\"text-align: right;\">\n",
       "      <th></th>\n",
       "      <th>text</th>\n",
       "      <th>label</th>\n",
       "    </tr>\n",
       "  </thead>\n",
       "  <tbody>\n",
       "    <tr>\n",
       "      <th>0</th>\n",
       "      <td>Daniel Greenfield, a Shillman Journalism Fello...</td>\n",
       "      <td>0</td>\n",
       "    </tr>\n",
       "    <tr>\n",
       "      <th>1</th>\n",
       "      <td>Google Pinterest Digg Linkedin Reddit Stumbleu...</td>\n",
       "      <td>0</td>\n",
       "    </tr>\n",
       "    <tr>\n",
       "      <th>2</th>\n",
       "      <td>U.S. Secretary of State John F. Kerry said Mon...</td>\n",
       "      <td>1</td>\n",
       "    </tr>\n",
       "    <tr>\n",
       "      <th>3</th>\n",
       "      <td>— Kaydee King (@KaydeeKing) November 9, 2016 T...</td>\n",
       "      <td>0</td>\n",
       "    </tr>\n",
       "    <tr>\n",
       "      <th>4</th>\n",
       "      <td>It's primary day in New York and front-runners...</td>\n",
       "      <td>1</td>\n",
       "    </tr>\n",
       "    <tr>\n",
       "      <th>...</th>\n",
       "      <td>...</td>\n",
       "      <td>...</td>\n",
       "    </tr>\n",
       "    <tr>\n",
       "      <th>6330</th>\n",
       "      <td>The State Department told the Republican Natio...</td>\n",
       "      <td>1</td>\n",
       "    </tr>\n",
       "    <tr>\n",
       "      <th>6331</th>\n",
       "      <td>The ‘P’ in PBS Should Stand for ‘Plutocratic’ ...</td>\n",
       "      <td>0</td>\n",
       "    </tr>\n",
       "    <tr>\n",
       "      <th>6332</th>\n",
       "      <td>Anti-Trump Protesters Are Tools of the Oligar...</td>\n",
       "      <td>0</td>\n",
       "    </tr>\n",
       "    <tr>\n",
       "      <th>6333</th>\n",
       "      <td>ADDIS ABABA, Ethiopia —President Obama convene...</td>\n",
       "      <td>1</td>\n",
       "    </tr>\n",
       "    <tr>\n",
       "      <th>6334</th>\n",
       "      <td>Jeb Bush Is Suddenly Attacking Trump. Here's W...</td>\n",
       "      <td>1</td>\n",
       "    </tr>\n",
       "  </tbody>\n",
       "</table>\n",
       "<p>6060 rows × 2 columns</p>\n",
       "</div>"
      ],
      "text/plain": [
       "                                                   text  label\n",
       "0     Daniel Greenfield, a Shillman Journalism Fello...      0\n",
       "1     Google Pinterest Digg Linkedin Reddit Stumbleu...      0\n",
       "2     U.S. Secretary of State John F. Kerry said Mon...      1\n",
       "3     — Kaydee King (@KaydeeKing) November 9, 2016 T...      0\n",
       "4     It's primary day in New York and front-runners...      1\n",
       "...                                                 ...    ...\n",
       "6330  The State Department told the Republican Natio...      1\n",
       "6331  The ‘P’ in PBS Should Stand for ‘Plutocratic’ ...      0\n",
       "6332   Anti-Trump Protesters Are Tools of the Oligar...      0\n",
       "6333  ADDIS ABABA, Ethiopia —President Obama convene...      1\n",
       "6334  Jeb Bush Is Suddenly Attacking Trump. Here's W...      1\n",
       "\n",
       "[6060 rows x 2 columns]"
      ]
     },
     "execution_count": 14,
     "metadata": {},
     "output_type": "execute_result"
    }
   ],
   "source": [
    "df"
   ]
  },
  {
   "cell_type": "markdown",
   "id": "364d58c6-4a02-4ced-b404-5e98aba4846f",
   "metadata": {},
   "source": [
    "#### 2. Tokenizing and further cleaning our data"
   ]
  },
  {
   "cell_type": "markdown",
   "id": "c423025d",
   "metadata": {},
   "source": [
    "*Tokenizing is assigning each word within the texts a number so that our texts can be properly input into our model*"
   ]
  },
  {
   "cell_type": "code",
   "execution_count": 15,
   "id": "2ac6d045-a408-4405-95ef-0e5ce0d6b31f",
   "metadata": {},
   "outputs": [
    {
     "name": "stdout",
     "output_type": "stream",
     "text": [
      "{'my': 127, 'was': 15, 'any': 102, 'does': 204, 'on': 10, \"you've\": 5074, 'if': 48, 'i': 33, 'only': 87, 'few': 288, \"hadn't\": 8449, \"doesn't\": 941, 'when': 56, 'herself': 1381, 'themselves': 573, 'between': 173, 'more': 41, 'yours': 9894, 'is': 8, 'because': 89, 'not': 22, 'about': 38, \"didn't\": 838, \"it's\": 208, 'all': 44, 'some': 75, \"she's\": 1847, 'theirs': 8067, 'below': 1046, 'he': 14, 'here': 169, \"hasn't\": 2967, 'did': 137, 'which': 53, 'ourselves': 2081, 'down': 160, 'himself': 478, 'she': 50, 'don': 5275, 'his': 24, 'her': 46, 'for': 9, \"shouldn't\": 4661, 't': 1031, 'won': 503, 'how': 90, 'as': 11, 'at': 25, \"needn't\": 66852, 'isn': 87008, 'will': 35, 'be': 17, 'once': 350, 'those': 99, 'out': 54, 'most': 92, \"won't\": 1717, \"isn't\": 1411, \"you're\": 1897, 'll': 31477, 'being': 118, 'while': 111, 'didn': 47398, 'from': 28, \"wasn't\": 1830, 'o': 3267, 'nor': 1264, 'were': 51, \"weren't\": 5336, \"that'll\": 31410, 'into': 80, 'up': 58, 'have': 20, 'this': 18, 'where': 119, 'myself': 2362, \"wouldn't\": 2497, 'them': 79, 's': 95, 'an': 31, 'too': 217, \"you'll\": 5624, 'can': 64, 'should': 134, 'ma': 11595, 'until': 378, 'or': 37, 'both': 156, 'why': 191, 'just': 74, 'very': 131, \"haven't\": 3610, 'been': 45, 'm': 825, 'its': 77, 'of': 3, 'before': 117, 'these': 101, 'y': 3998, 'do': 72, 'am': 465, 'you': 39, 'yourselves': 11694, \"you'd\": 9047, 'are': 16, 'under': 186, 'whom': 951, 'to': 2, 've': 57230, 'the': 1, 'after': 71, 'd': 565, 'has': 23, 'with': 13, 'than': 63, \"couldn't\": 3218, 'but': 27, 'that': 7, 'him': 88, 'and': 4, \"should've\": 45892, 'doesn': 91847, 'it': 12, 'then': 126, 'there': 59, 'by': 19, 'other': 69, 'own': 181, 'ain': 82665, 'again': 270, 'over': 73, 're': 1188, 'a': 5, 'having': 455, 'ours': 6751, 'through': 172, 'each': 326, 'during': 164, 'who': 32, \"don't\": 426, 'in': 6, 'further': 592, 'hers': 9347, 'now': 83, \"aren't\": 2795, 'had': 52, 'their': 40, 'they': 30, 'our': 67, 'doing': 374, 'same': 163, 'such': 152, 'off': 180, 'haven': 8789, 'we': 34, 'your': 115, 'what': 49, 'above': 954, 'yourself': 1684, 'me': 179, 'so': 55, 'itself': 672, 'no': 61, \"mustn't\": 54417, 'against': 103}\n"
     ]
    },
    {
     "name": "stderr",
     "output_type": "stream",
     "text": [
      "[nltk_data] Downloading package stopwords to\n",
      "[nltk_data]     /Users/rohanmahajan/nltk_data...\n",
      "[nltk_data]   Package stopwords is already up-to-date!\n",
      "[nltk_data] Downloading package punkt to\n",
      "[nltk_data]     /Users/rohanmahajan/nltk_data...\n",
      "[nltk_data]   Package punkt is already up-to-date!\n"
     ]
    }
   ],
   "source": [
    "#creating a function to clean and tokenize our text\n",
    "import tensorflow as tf\n",
    "import regex as re\n",
    "import nltk\n",
    "from nltk.corpus import stopwords\n",
    "from nltk.tokenize import word_tokenize\n",
    "from tensorflow.keras.preprocessing.text import Tokenizer\n",
    "tokenizer = Tokenizer()\n",
    "tokenizer.fit_on_texts(df['text'])\n",
    "sequences = tokenizer.texts_to_sequences(df['text'])\n",
    "word_index = tokenizer.word_index\n",
    "nltk.download('stopwords')\n",
    "nltk.download('punkt')\n",
    "\n",
    "#creating a dictionary to access the numerical values of our stopwords, so we can ultimately remove them from our texts\n",
    "stop_words = set(stopwords.words('english'))\n",
    "stop_words_dict = {}\n",
    "for word in stop_words:\n",
    "    if word in word_index:\n",
    "        stop_words_dict[word] = word_index[word]\n",
    "print(stop_words_dict)\n",
    "\n",
    "\n",
    "def clean_text(text):\n",
    "    #removing all stopwords (words like 'a', 'an', 'the', 'my', 'of') and non-letter words from the text\n",
    "    individual_words = tokenizer.texts_to_sequences([text])[0]\n",
    "    cleaned_text = []\n",
    "    for word in individual_words:\n",
    "        if word not in stop_words_dict.values():\n",
    "            cleaned_text.append(word)\n",
    "    return cleaned_text"
   ]
  },
  {
   "cell_type": "code",
   "execution_count": 16,
   "id": "5fa1be5d-b3f3-4f3a-8502-680ed5879ae6",
   "metadata": {},
   "outputs": [
    {
     "data": {
      "text/html": [
       "<div>\n",
       "<style scoped>\n",
       "    .dataframe tbody tr th:only-of-type {\n",
       "        vertical-align: middle;\n",
       "    }\n",
       "\n",
       "    .dataframe tbody tr th {\n",
       "        vertical-align: top;\n",
       "    }\n",
       "\n",
       "    .dataframe thead th {\n",
       "        text-align: right;\n",
       "    }\n",
       "</style>\n",
       "<table border=\"1\" class=\"dataframe\">\n",
       "  <thead>\n",
       "    <tr style=\"text-align: right;\">\n",
       "      <th></th>\n",
       "      <th>text</th>\n",
       "      <th>label</th>\n",
       "    </tr>\n",
       "  </thead>\n",
       "  <tbody>\n",
       "    <tr>\n",
       "      <th>0</th>\n",
       "      <td>Daniel Greenfield, a Shillman Journalism Fello...</td>\n",
       "      <td>0</td>\n",
       "    </tr>\n",
       "    <tr>\n",
       "      <th>1</th>\n",
       "      <td>Google Pinterest Digg Linkedin Reddit Stumbleu...</td>\n",
       "      <td>0</td>\n",
       "    </tr>\n",
       "    <tr>\n",
       "      <th>2</th>\n",
       "      <td>U.S. Secretary of State John F. Kerry said Mon...</td>\n",
       "      <td>1</td>\n",
       "    </tr>\n",
       "    <tr>\n",
       "      <th>3</th>\n",
       "      <td>— Kaydee King (@KaydeeKing) November 9, 2016 T...</td>\n",
       "      <td>0</td>\n",
       "    </tr>\n",
       "    <tr>\n",
       "      <th>4</th>\n",
       "      <td>It's primary day in New York and front-runners...</td>\n",
       "      <td>1</td>\n",
       "    </tr>\n",
       "    <tr>\n",
       "      <th>...</th>\n",
       "      <td>...</td>\n",
       "      <td>...</td>\n",
       "    </tr>\n",
       "    <tr>\n",
       "      <th>6330</th>\n",
       "      <td>The State Department told the Republican Natio...</td>\n",
       "      <td>1</td>\n",
       "    </tr>\n",
       "    <tr>\n",
       "      <th>6331</th>\n",
       "      <td>The ‘P’ in PBS Should Stand for ‘Plutocratic’ ...</td>\n",
       "      <td>0</td>\n",
       "    </tr>\n",
       "    <tr>\n",
       "      <th>6332</th>\n",
       "      <td>Anti-Trump Protesters Are Tools of the Oligar...</td>\n",
       "      <td>0</td>\n",
       "    </tr>\n",
       "    <tr>\n",
       "      <th>6333</th>\n",
       "      <td>ADDIS ABABA, Ethiopia —President Obama convene...</td>\n",
       "      <td>1</td>\n",
       "    </tr>\n",
       "    <tr>\n",
       "      <th>6334</th>\n",
       "      <td>Jeb Bush Is Suddenly Attacking Trump. Here's W...</td>\n",
       "      <td>1</td>\n",
       "    </tr>\n",
       "  </tbody>\n",
       "</table>\n",
       "<p>6060 rows × 2 columns</p>\n",
       "</div>"
      ],
      "text/plain": [
       "                                                   text  label\n",
       "0     Daniel Greenfield, a Shillman Journalism Fello...      0\n",
       "1     Google Pinterest Digg Linkedin Reddit Stumbleu...      0\n",
       "2     U.S. Secretary of State John F. Kerry said Mon...      1\n",
       "3     — Kaydee King (@KaydeeKing) November 9, 2016 T...      0\n",
       "4     It's primary day in New York and front-runners...      1\n",
       "...                                                 ...    ...\n",
       "6330  The State Department told the Republican Natio...      1\n",
       "6331  The ‘P’ in PBS Should Stand for ‘Plutocratic’ ...      0\n",
       "6332   Anti-Trump Protesters Are Tools of the Oligar...      0\n",
       "6333  ADDIS ABABA, Ethiopia —President Obama convene...      1\n",
       "6334  Jeb Bush Is Suddenly Attacking Trump. Here's W...      1\n",
       "\n",
       "[6060 rows x 2 columns]"
      ]
     },
     "execution_count": 16,
     "metadata": {},
     "output_type": "execute_result"
    }
   ],
   "source": [
    "df"
   ]
  },
  {
   "cell_type": "code",
   "execution_count": 17,
   "id": "ad79e27c-7583-4256-804f-80dd070d7eef",
   "metadata": {},
   "outputs": [
    {
     "data": {
      "text/html": [
       "<div>\n",
       "<style scoped>\n",
       "    .dataframe tbody tr th:only-of-type {\n",
       "        vertical-align: middle;\n",
       "    }\n",
       "\n",
       "    .dataframe tbody tr th {\n",
       "        vertical-align: top;\n",
       "    }\n",
       "\n",
       "    .dataframe thead th {\n",
       "        text-align: right;\n",
       "    }\n",
       "</style>\n",
       "<table border=\"1\" class=\"dataframe\">\n",
       "  <thead>\n",
       "    <tr style=\"text-align: right;\">\n",
       "      <th></th>\n",
       "      <th>text</th>\n",
       "      <th>label</th>\n",
       "    </tr>\n",
       "  </thead>\n",
       "  <tbody>\n",
       "    <tr>\n",
       "      <th>0</th>\n",
       "      <td>[4556, 13404, 26418, 2992, 1272, 625, 491, 57,...</td>\n",
       "      <td>0</td>\n",
       "    </tr>\n",
       "    <tr>\n",
       "      <th>1</th>\n",
       "      <td>[2250, 7977, 16785, 12619, 7072, 16786, 2132, ...</td>\n",
       "      <td>0</td>\n",
       "    </tr>\n",
       "    <tr>\n",
       "      <th>2</th>\n",
       "      <td>[96, 258, 60, 250, 1559, 1528, 26, 461, 467, 8...</td>\n",
       "      <td>1</td>\n",
       "    </tr>\n",
       "    <tr>\n",
       "      <th>3</th>\n",
       "      <td>[62, 52364, 1179, 52365, 329, 526, 139, 4030, ...</td>\n",
       "      <td>0</td>\n",
       "    </tr>\n",
       "    <tr>\n",
       "      <th>4</th>\n",
       "      <td>[282, 158, 57, 247, 484, 8533, 81, 36, 138, 29...</td>\n",
       "      <td>1</td>\n",
       "    </tr>\n",
       "    <tr>\n",
       "      <th>...</th>\n",
       "      <td>...</td>\n",
       "      <td>...</td>\n",
       "    </tr>\n",
       "    <tr>\n",
       "      <th>6330</th>\n",
       "      <td>[60, 233, 140, 91, 151, 401, 82, 402, 268, 81,...</td>\n",
       "      <td>1</td>\n",
       "    </tr>\n",
       "    <tr>\n",
       "      <th>6331</th>\n",
       "      <td>[98750, 8447, 726, 98751, 98752, 993, 1626, 10...</td>\n",
       "      <td>0</td>\n",
       "    </tr>\n",
       "    <tr>\n",
       "      <th>6332</th>\n",
       "      <td>[387, 29, 1254, 3114, 3931, 98790, 443, 18206,...</td>\n",
       "      <td>0</td>\n",
       "    </tr>\n",
       "    <tr>\n",
       "      <th>6333</th>\n",
       "      <td>[25235, 30957, 6668, 48404, 84, 9641, 632, 371...</td>\n",
       "      <td>1</td>\n",
       "    </tr>\n",
       "    <tr>\n",
       "      <th>6334</th>\n",
       "      <td>[862, 194, 2581, 2233, 29, 3134, 1494, 862, 19...</td>\n",
       "      <td>1</td>\n",
       "    </tr>\n",
       "  </tbody>\n",
       "</table>\n",
       "<p>6060 rows × 2 columns</p>\n",
       "</div>"
      ],
      "text/plain": [
       "                                                   text  label\n",
       "0     [4556, 13404, 26418, 2992, 1272, 625, 491, 57,...      0\n",
       "1     [2250, 7977, 16785, 12619, 7072, 16786, 2132, ...      0\n",
       "2     [96, 258, 60, 250, 1559, 1528, 26, 461, 467, 8...      1\n",
       "3     [62, 52364, 1179, 52365, 329, 526, 139, 4030, ...      0\n",
       "4     [282, 158, 57, 247, 484, 8533, 81, 36, 138, 29...      1\n",
       "...                                                 ...    ...\n",
       "6330  [60, 233, 140, 91, 151, 401, 82, 402, 268, 81,...      1\n",
       "6331  [98750, 8447, 726, 98751, 98752, 993, 1626, 10...      0\n",
       "6332  [387, 29, 1254, 3114, 3931, 98790, 443, 18206,...      0\n",
       "6333  [25235, 30957, 6668, 48404, 84, 9641, 632, 371...      1\n",
       "6334  [862, 194, 2581, 2233, 29, 3134, 1494, 862, 19...      1\n",
       "\n",
       "[6060 rows x 2 columns]"
      ]
     },
     "execution_count": 17,
     "metadata": {},
     "output_type": "execute_result"
    }
   ],
   "source": [
    "#running clean_text on our df\n",
    "df['text'] = df['text'].apply(clean_text)\n",
    "df"
   ]
  },
  {
   "cell_type": "code",
   "execution_count": 18,
   "id": "36cea7c9-d4a1-47e2-9b3c-eb69fb547e9d",
   "metadata": {},
   "outputs": [],
   "source": [
    "#turning our text back into a string using join\n",
    "def list_to_string(text):\n",
    "    final_string = ', '.join(str(num) for num in text)\n",
    "    return final_string"
   ]
  },
  {
   "cell_type": "code",
   "execution_count": 19,
   "id": "79071c76-48b8-4721-a9a5-214af8daf5f6",
   "metadata": {},
   "outputs": [
    {
     "data": {
      "text/html": [
       "<div>\n",
       "<style scoped>\n",
       "    .dataframe tbody tr th:only-of-type {\n",
       "        vertical-align: middle;\n",
       "    }\n",
       "\n",
       "    .dataframe tbody tr th {\n",
       "        vertical-align: top;\n",
       "    }\n",
       "\n",
       "    .dataframe thead th {\n",
       "        text-align: right;\n",
       "    }\n",
       "</style>\n",
       "<table border=\"1\" class=\"dataframe\">\n",
       "  <thead>\n",
       "    <tr style=\"text-align: right;\">\n",
       "      <th></th>\n",
       "      <th>text</th>\n",
       "      <th>label</th>\n",
       "    </tr>\n",
       "  </thead>\n",
       "  <tbody>\n",
       "    <tr>\n",
       "      <th>0</th>\n",
       "      <td>4556, 13404, 26418, 2992, 1272, 625, 491, 57, ...</td>\n",
       "      <td>0</td>\n",
       "    </tr>\n",
       "    <tr>\n",
       "      <th>1</th>\n",
       "      <td>2250, 7977, 16785, 12619, 7072, 16786, 2132, 1...</td>\n",
       "      <td>0</td>\n",
       "    </tr>\n",
       "    <tr>\n",
       "      <th>2</th>\n",
       "      <td>96, 258, 60, 250, 1559, 1528, 26, 461, 467, 87...</td>\n",
       "      <td>1</td>\n",
       "    </tr>\n",
       "    <tr>\n",
       "      <th>3</th>\n",
       "      <td>62, 52364, 1179, 52365, 329, 526, 139, 4030, 1...</td>\n",
       "      <td>0</td>\n",
       "    </tr>\n",
       "    <tr>\n",
       "      <th>4</th>\n",
       "      <td>282, 158, 57, 247, 484, 8533, 81, 36, 138, 29,...</td>\n",
       "      <td>1</td>\n",
       "    </tr>\n",
       "    <tr>\n",
       "      <th>...</th>\n",
       "      <td>...</td>\n",
       "      <td>...</td>\n",
       "    </tr>\n",
       "    <tr>\n",
       "      <th>6330</th>\n",
       "      <td>60, 233, 140, 91, 151, 401, 82, 402, 268, 81, ...</td>\n",
       "      <td>1</td>\n",
       "    </tr>\n",
       "    <tr>\n",
       "      <th>6331</th>\n",
       "      <td>98750, 8447, 726, 98751, 98752, 993, 1626, 108...</td>\n",
       "      <td>0</td>\n",
       "    </tr>\n",
       "    <tr>\n",
       "      <th>6332</th>\n",
       "      <td>387, 29, 1254, 3114, 3931, 98790, 443, 18206, ...</td>\n",
       "      <td>0</td>\n",
       "    </tr>\n",
       "    <tr>\n",
       "      <th>6333</th>\n",
       "      <td>25235, 30957, 6668, 48404, 84, 9641, 632, 371,...</td>\n",
       "      <td>1</td>\n",
       "    </tr>\n",
       "    <tr>\n",
       "      <th>6334</th>\n",
       "      <td>862, 194, 2581, 2233, 29, 3134, 1494, 862, 194...</td>\n",
       "      <td>1</td>\n",
       "    </tr>\n",
       "  </tbody>\n",
       "</table>\n",
       "<p>6060 rows × 2 columns</p>\n",
       "</div>"
      ],
      "text/plain": [
       "                                                   text  label\n",
       "0     4556, 13404, 26418, 2992, 1272, 625, 491, 57, ...      0\n",
       "1     2250, 7977, 16785, 12619, 7072, 16786, 2132, 1...      0\n",
       "2     96, 258, 60, 250, 1559, 1528, 26, 461, 467, 87...      1\n",
       "3     62, 52364, 1179, 52365, 329, 526, 139, 4030, 1...      0\n",
       "4     282, 158, 57, 247, 484, 8533, 81, 36, 138, 29,...      1\n",
       "...                                                 ...    ...\n",
       "6330  60, 233, 140, 91, 151, 401, 82, 402, 268, 81, ...      1\n",
       "6331  98750, 8447, 726, 98751, 98752, 993, 1626, 108...      0\n",
       "6332  387, 29, 1254, 3114, 3931, 98790, 443, 18206, ...      0\n",
       "6333  25235, 30957, 6668, 48404, 84, 9641, 632, 371,...      1\n",
       "6334  862, 194, 2581, 2233, 29, 3134, 1494, 862, 194...      1\n",
       "\n",
       "[6060 rows x 2 columns]"
      ]
     },
     "execution_count": 19,
     "metadata": {},
     "output_type": "execute_result"
    }
   ],
   "source": [
    "df['text'] = df['text'].apply(list_to_string)\n",
    "df"
   ]
  },
  {
   "cell_type": "code",
   "execution_count": 20,
   "id": "da25f453-faa4-417a-865c-191d3dd5667b",
   "metadata": {},
   "outputs": [],
   "source": [
    "#cleaning our sequences\n",
    "sequences_cleaned= []\n",
    "for sequence in sequences:\n",
    "    cleaned_sequence = []\n",
    "    for num in sequence:\n",
    "        if num not in stop_words_dict.values():\n",
    "            cleaned_sequence.append(num)\n",
    "    sequences_cleaned.append(cleaned_sequence)"
   ]
  },
  {
   "cell_type": "code",
   "execution_count": 21,
   "id": "e288d114-b3ac-402b-8f7e-3d9a403671bc",
   "metadata": {},
   "outputs": [],
   "source": [
    "#padding our sequences to make them all equal length\n",
    "from tensorflow.keras.preprocessing.sequence import pad_sequences\n",
    "padded = pad_sequences(sequences_cleaned, maxlen=75, padding='post', truncating='post')"
   ]
  },
  {
   "cell_type": "code",
   "execution_count": 22,
   "id": "4349d1c2-ac39-4e4f-a6d3-9349d05e7a81",
   "metadata": {},
   "outputs": [
    {
     "data": {
      "text/plain": [
       "array([[ 4556, 13404, 26418, ...,   697,  1083,   153],\n",
       "       [ 2250,  7977, 16785, ...,    91,   107, 40155],\n",
       "       [   96,   258,    60, ..., 12621,  1225,    93],\n",
       "       ...,\n",
       "       [  387,    29,  1254, ...,   815,  1425,   238],\n",
       "       [25235, 30957,  6668, ...,  1036,  1288,   429],\n",
       "       [  862,   194,  2581, ...,  3364,  1025,   236]], dtype=int32)"
      ]
     },
     "execution_count": 22,
     "metadata": {},
     "output_type": "execute_result"
    }
   ],
   "source": [
    "padded"
   ]
  },
  {
   "cell_type": "markdown",
   "id": "3b12f99c-9e6f-4db6-a63b-6b7b8609dd0b",
   "metadata": {},
   "source": [
    "#### 3. Generating Word Embedding"
   ]
  },
  {
   "cell_type": "markdown",
   "id": "ff2448a2-e6c9-43d1-a56a-75da9e488588",
   "metadata": {},
   "source": [
    "We need to generate a word embedding in order for our model recognize which words are and are not related to one another. Words in a word embedding are represented in a vector space, with more closely related words closer to each other in said space. Also, we want to express this relationship between words as a number, so we are going to use the glove.6B.50d.txt file which already has many words and their relatedness to other words in terms of floating point numbers."
   ]
  },
  {
   "cell_type": "code",
   "execution_count": 23,
   "id": "686fd2f5-6d70-4d5a-85a0-1652719dbb52",
   "metadata": {},
   "outputs": [
    {
     "data": {
      "text/plain": [
       "array([[ 0.      ,  0.      ,  0.      , ...,  0.      ,  0.      ,\n",
       "         0.      ],\n",
       "       [ 0.418   ,  0.24968 , -0.41242 , ..., -0.18411 , -0.11514 ,\n",
       "        -0.78581 ],\n",
       "       [ 0.68047 , -0.039263,  0.30186 , ..., -0.073297, -0.064699,\n",
       "        -0.26044 ],\n",
       "       ...,\n",
       "       [ 0.      ,  0.      ,  0.      , ...,  0.      ,  0.      ,\n",
       "         0.      ],\n",
       "       [-0.37878 , -0.59358 ,  0.055043, ..., -0.59179 , -0.10974 ,\n",
       "        -0.81291 ],\n",
       "       [ 0.079391, -0.24515 ,  0.053814, ..., -0.11445 ,  0.36078 ,\n",
       "         0.20451 ]])"
      ]
     },
     "execution_count": 23,
     "metadata": {},
     "output_type": "execute_result"
    }
   ],
   "source": [
    "#parsing through our file and creating a dictionary to represent our word embeddings\n",
    "word_embeddings = {}\n",
    "with open('/Users/rohanmahajan/Downloads/glove.6B.50d.txt') as embeddings_file:\n",
    "    for line in embeddings_file:\n",
    "        values = line.split()\n",
    "        word = values[0]\n",
    "        embedding = []\n",
    "        for val in values[1:]:\n",
    "            embedding.append(float(val))\n",
    "        word_embeddings[word] = embedding\n",
    "#turning our dictionary into a matrix so it can be inputted into our model\n",
    "embeddings_matrix = np.zeros((len(word_index)+1, 50))\n",
    "for word, i in word_index.items():\n",
    "    embedding_vector = word_embeddings.get(word)\n",
    "    if embedding_vector is not None:\n",
    "        embeddings_matrix[i] = embedding_vector\n",
    "embeddings_matrix"
   ]
  },
  {
   "cell_type": "markdown",
   "id": "b9a86c88-15a2-4014-baf2-4f619ca2c636",
   "metadata": {},
   "source": [
    "#### 4. Creating, fitting, testing Tensorflow model,and testing"
   ]
  },
  {
   "cell_type": "code",
   "execution_count": 24,
   "id": "5933d6e0-7175-47b6-8885-1ff68b0ac285",
   "metadata": {},
   "outputs": [],
   "source": [
    "from tensorflow.keras.preprocessing.sequence import pad_sequences\n",
    "from tensorflow.keras.utils import to_categorical\n",
    "from tensorflow.keras import regularizers"
   ]
  },
  {
   "cell_type": "code",
   "execution_count": 25,
   "id": "1c25ca51-a72b-447e-94ad-efae996249a1",
   "metadata": {},
   "outputs": [],
   "source": [
    "#splitting up our data using train_test_split for our Tensorflow model\n",
    "from sklearn.model_selection import train_test_split\n",
    "label = []\n",
    "for value in df['label']:\n",
    "    label.append(value)\n",
    "training_sequences, test_sequences, training_labels, test_labels = train_test_split(padded, label, test_size=0.1)"
   ]
  },
  {
   "cell_type": "code",
   "execution_count": 36,
   "id": "d6a4209f-ee26-4f9e-bb9e-9df03331f7ce",
   "metadata": {
    "scrolled": true
   },
   "outputs": [],
   "source": [
    "#creating the model\n",
    "model = tf.keras.Sequential([\n",
    "    #adding my word embedding matrix to my model\n",
    "    tf.keras.layers.Embedding(len(word_index)+1, 50,\n",
    "                              input_length=75, weights=[\n",
    "                                  embeddings_matrix],\n",
    "                              trainable=False),\n",
    "    #converts 40% of neurons to 0s and uses 60% of data to account for it. This is a good way to eliminate the model from basing itself on a certain group of neurons.\n",
    "    tf.keras.layers.Dropout(0.4),\n",
    "    #using conv1d to process our data, this is useful because it finds short range patterns within the sequences\n",
    "    tf.keras.layers.Conv1D(64, 5, activation='relu'),\n",
    "    #same thing as Dropout but for the conv1D layer we just created\n",
    "    tf.keras.layers.SpatialDropout1D(0.4),\n",
    "    #looking at every 4 words and taking into account the most important one\n",
    "    tf.keras.layers.MaxPooling1D(pool_size=4),\n",
    "    #using LSTM to find long range pattters within the sequencecs\n",
    "    tf.keras.layers.LSTM(64),\n",
    "    tf.keras.layers.Dense(128, activation='relu'),\n",
    "    tf.keras.layers.Dense(1, activation='sigmoid')\n",
    "])\n",
    "model.compile(loss='binary_crossentropy',\n",
    "              optimizer='adam', metrics=['accuracy'])"
   ]
  },
  {
   "cell_type": "code",
   "execution_count": 37,
   "id": "c8e8c62b-1979-487c-a3d9-057241d01271",
   "metadata": {},
   "outputs": [
    {
     "name": "stdout",
     "output_type": "stream",
     "text": [
      "Epoch 1/50\n"
     ]
    },
    {
     "name": "stderr",
     "output_type": "stream",
     "text": [
      "2023-08-16 02:13:27.721405: I tensorflow/core/grappler/optimizers/custom_graph_optimizer_registry.cc:114] Plugin optimizer for device_type GPU is enabled.\n",
      "2023-08-16 02:13:27.838089: I tensorflow/core/grappler/optimizers/custom_graph_optimizer_registry.cc:114] Plugin optimizer for device_type GPU is enabled.\n",
      "2023-08-16 02:13:27.924477: I tensorflow/core/grappler/optimizers/custom_graph_optimizer_registry.cc:114] Plugin optimizer for device_type GPU is enabled.\n",
      "2023-08-16 02:13:29.636299: I tensorflow/core/grappler/optimizers/custom_graph_optimizer_registry.cc:114] Plugin optimizer for device_type GPU is enabled.\n",
      "2023-08-16 02:13:29.685251: I tensorflow/core/grappler/optimizers/custom_graph_optimizer_registry.cc:114] Plugin optimizer for device_type GPU is enabled.\n"
     ]
    },
    {
     "name": "stdout",
     "output_type": "stream",
     "text": [
      "171/171 - 3s - loss: 0.6123 - accuracy: 0.6481 - val_loss: 0.4852 - val_accuracy: 0.7789 - 3s/epoch - 15ms/step\n",
      "Epoch 2/50\n",
      "171/171 - 1s - loss: 0.4872 - accuracy: 0.7770 - val_loss: 0.4081 - val_accuracy: 0.8135 - 1s/epoch - 8ms/step\n",
      "Epoch 3/50\n",
      "171/171 - 1s - loss: 0.4280 - accuracy: 0.8009 - val_loss: 0.4260 - val_accuracy: 0.8036 - 1s/epoch - 8ms/step\n",
      "Epoch 4/50\n",
      "171/171 - 1s - loss: 0.3899 - accuracy: 0.8212 - val_loss: 0.3778 - val_accuracy: 0.8251 - 1s/epoch - 8ms/step\n",
      "Epoch 5/50\n",
      "171/171 - 1s - loss: 0.3741 - accuracy: 0.8297 - val_loss: 0.3515 - val_accuracy: 0.8399 - 1s/epoch - 8ms/step\n",
      "Epoch 6/50\n",
      "171/171 - 1s - loss: 0.3527 - accuracy: 0.8447 - val_loss: 0.3487 - val_accuracy: 0.8416 - 1s/epoch - 8ms/step\n",
      "Epoch 7/50\n",
      "171/171 - 1s - loss: 0.3387 - accuracy: 0.8489 - val_loss: 0.3418 - val_accuracy: 0.8350 - 1s/epoch - 8ms/step\n",
      "Epoch 8/50\n",
      "171/171 - 1s - loss: 0.3284 - accuracy: 0.8608 - val_loss: 0.3206 - val_accuracy: 0.8482 - 1s/epoch - 8ms/step\n",
      "Epoch 9/50\n",
      "171/171 - 1s - loss: 0.3102 - accuracy: 0.8612 - val_loss: 0.3433 - val_accuracy: 0.8498 - 1s/epoch - 8ms/step\n",
      "Epoch 10/50\n",
      "171/171 - 1s - loss: 0.3010 - accuracy: 0.8717 - val_loss: 0.2950 - val_accuracy: 0.8614 - 1s/epoch - 8ms/step\n",
      "Epoch 11/50\n",
      "171/171 - 1s - loss: 0.2967 - accuracy: 0.8680 - val_loss: 0.3000 - val_accuracy: 0.8663 - 1s/epoch - 9ms/step\n",
      "Epoch 12/50\n",
      "171/171 - 1s - loss: 0.2876 - accuracy: 0.8753 - val_loss: 0.3158 - val_accuracy: 0.8581 - 1s/epoch - 8ms/step\n",
      "Epoch 13/50\n",
      "171/171 - 1s - loss: 0.2819 - accuracy: 0.8808 - val_loss: 0.2861 - val_accuracy: 0.8713 - 1s/epoch - 8ms/step\n",
      "Epoch 14/50\n",
      "171/171 - 1s - loss: 0.2802 - accuracy: 0.8805 - val_loss: 0.2809 - val_accuracy: 0.8729 - 1s/epoch - 8ms/step\n",
      "Epoch 15/50\n",
      "171/171 - 1s - loss: 0.2691 - accuracy: 0.8847 - val_loss: 0.2964 - val_accuracy: 0.8729 - 1s/epoch - 8ms/step\n",
      "Epoch 16/50\n",
      "171/171 - 1s - loss: 0.2650 - accuracy: 0.8876 - val_loss: 0.3039 - val_accuracy: 0.8614 - 1s/epoch - 8ms/step\n",
      "Epoch 17/50\n",
      "171/171 - 1s - loss: 0.2626 - accuracy: 0.8869 - val_loss: 0.2904 - val_accuracy: 0.8746 - 1s/epoch - 8ms/step\n",
      "Epoch 18/50\n",
      "171/171 - 1s - loss: 0.2475 - accuracy: 0.8971 - val_loss: 0.3034 - val_accuracy: 0.8647 - 1s/epoch - 8ms/step\n",
      "Epoch 19/50\n",
      "171/171 - 1s - loss: 0.2460 - accuracy: 0.8948 - val_loss: 0.2771 - val_accuracy: 0.8779 - 1s/epoch - 9ms/step\n",
      "Epoch 20/50\n",
      "171/171 - 1s - loss: 0.2312 - accuracy: 0.9017 - val_loss: 0.2870 - val_accuracy: 0.8746 - 1s/epoch - 8ms/step\n",
      "Epoch 21/50\n",
      "171/171 - 1s - loss: 0.2386 - accuracy: 0.8995 - val_loss: 0.2822 - val_accuracy: 0.8762 - 1s/epoch - 8ms/step\n",
      "Epoch 22/50\n",
      "171/171 - 1s - loss: 0.2360 - accuracy: 0.9039 - val_loss: 0.3092 - val_accuracy: 0.8746 - 1s/epoch - 8ms/step\n",
      "Epoch 23/50\n",
      "171/171 - 1s - loss: 0.2216 - accuracy: 0.9091 - val_loss: 0.2685 - val_accuracy: 0.8779 - 1s/epoch - 8ms/step\n",
      "Epoch 24/50\n",
      "171/171 - 1s - loss: 0.2210 - accuracy: 0.9098 - val_loss: 0.2952 - val_accuracy: 0.8746 - 1s/epoch - 8ms/step\n",
      "Epoch 25/50\n",
      "171/171 - 1s - loss: 0.2153 - accuracy: 0.9069 - val_loss: 0.2947 - val_accuracy: 0.8779 - 1s/epoch - 8ms/step\n",
      "Epoch 26/50\n",
      "171/171 - 1s - loss: 0.2133 - accuracy: 0.9160 - val_loss: 0.2764 - val_accuracy: 0.8812 - 1s/epoch - 8ms/step\n",
      "Epoch 27/50\n",
      "171/171 - 1s - loss: 0.2086 - accuracy: 0.9142 - val_loss: 0.3120 - val_accuracy: 0.8779 - 1s/epoch - 8ms/step\n",
      "Epoch 28/50\n",
      "171/171 - 1s - loss: 0.2102 - accuracy: 0.9127 - val_loss: 0.2806 - val_accuracy: 0.8828 - 1s/epoch - 9ms/step\n",
      "Epoch 29/50\n",
      "171/171 - 1s - loss: 0.2011 - accuracy: 0.9162 - val_loss: 0.3343 - val_accuracy: 0.8614 - 1s/epoch - 8ms/step\n",
      "Epoch 30/50\n",
      "171/171 - 1s - loss: 0.2057 - accuracy: 0.9140 - val_loss: 0.3061 - val_accuracy: 0.8845 - 1s/epoch - 8ms/step\n",
      "Epoch 31/50\n",
      "171/171 - 2s - loss: 0.1967 - accuracy: 0.9190 - val_loss: 0.3214 - val_accuracy: 0.8680 - 2s/epoch - 9ms/step\n",
      "Epoch 32/50\n",
      "171/171 - 2s - loss: 0.2021 - accuracy: 0.9180 - val_loss: 0.2807 - val_accuracy: 0.8779 - 2s/epoch - 10ms/step\n",
      "Epoch 33/50\n",
      "171/171 - 2s - loss: 0.2079 - accuracy: 0.9166 - val_loss: 0.2766 - val_accuracy: 0.8828 - 2s/epoch - 12ms/step\n",
      "Epoch 34/50\n",
      "171/171 - 1s - loss: 0.1940 - accuracy: 0.9201 - val_loss: 0.3129 - val_accuracy: 0.8680 - 1s/epoch - 9ms/step\n",
      "Epoch 35/50\n",
      "171/171 - 1s - loss: 0.1921 - accuracy: 0.9221 - val_loss: 0.3060 - val_accuracy: 0.8729 - 1s/epoch - 8ms/step\n",
      "Epoch 36/50\n",
      "171/171 - 1s - loss: 0.1988 - accuracy: 0.9202 - val_loss: 0.2888 - val_accuracy: 0.8795 - 1s/epoch - 8ms/step\n",
      "Epoch 37/50\n",
      "171/171 - 1s - loss: 0.1985 - accuracy: 0.9195 - val_loss: 0.3092 - val_accuracy: 0.8795 - 1s/epoch - 8ms/step\n",
      "Epoch 38/50\n",
      "171/171 - 1s - loss: 0.1997 - accuracy: 0.9171 - val_loss: 0.3087 - val_accuracy: 0.8795 - 1s/epoch - 8ms/step\n",
      "Epoch 39/50\n",
      "171/171 - 2s - loss: 0.1916 - accuracy: 0.9191 - val_loss: 0.3011 - val_accuracy: 0.8795 - 2s/epoch - 10ms/step\n",
      "Epoch 40/50\n",
      "171/171 - 1s - loss: 0.1892 - accuracy: 0.9213 - val_loss: 0.3158 - val_accuracy: 0.8729 - 1s/epoch - 9ms/step\n",
      "Epoch 41/50\n",
      "171/171 - 1s - loss: 0.1769 - accuracy: 0.9292 - val_loss: 0.3160 - val_accuracy: 0.8845 - 1s/epoch - 8ms/step\n",
      "Epoch 42/50\n",
      "171/171 - 1s - loss: 0.1815 - accuracy: 0.9276 - val_loss: 0.2948 - val_accuracy: 0.8795 - 1s/epoch - 9ms/step\n",
      "Epoch 43/50\n",
      "171/171 - 1s - loss: 0.1794 - accuracy: 0.9261 - val_loss: 0.3803 - val_accuracy: 0.8597 - 1s/epoch - 8ms/step\n",
      "Epoch 44/50\n",
      "171/171 - 1s - loss: 0.1869 - accuracy: 0.9235 - val_loss: 0.3252 - val_accuracy: 0.8762 - 1s/epoch - 8ms/step\n",
      "Epoch 45/50\n",
      "171/171 - 1s - loss: 0.1748 - accuracy: 0.9290 - val_loss: 0.3021 - val_accuracy: 0.8861 - 1s/epoch - 8ms/step\n",
      "Epoch 46/50\n",
      "171/171 - 1s - loss: 0.1841 - accuracy: 0.9248 - val_loss: 0.2964 - val_accuracy: 0.8911 - 1s/epoch - 8ms/step\n",
      "Epoch 47/50\n",
      "171/171 - 2s - loss: 0.1805 - accuracy: 0.9257 - val_loss: 0.3131 - val_accuracy: 0.8878 - 2s/epoch - 10ms/step\n",
      "Epoch 48/50\n",
      "171/171 - 1s - loss: 0.1821 - accuracy: 0.9224 - val_loss: 0.3144 - val_accuracy: 0.8779 - 1s/epoch - 8ms/step\n",
      "Epoch 49/50\n",
      "171/171 - 1s - loss: 0.1718 - accuracy: 0.9298 - val_loss: 0.2983 - val_accuracy: 0.8762 - 1s/epoch - 8ms/step\n",
      "Epoch 50/50\n",
      "171/171 - 1s - loss: 0.1788 - accuracy: 0.9243 - val_loss: 0.3573 - val_accuracy: 0.8762 - 1s/epoch - 8ms/step\n"
     ]
    }
   ],
   "source": [
    "training_sequences = np.array(training_sequences)\n",
    "training_labels = np.array(training_labels)\n",
    "test_sequences = np.array(test_sequences)\n",
    "test_labels = np.array(test_labels)\n",
    "  \n",
    "history = model.fit(training_sequences, training_labels, \n",
    "                    epochs=50,\n",
    "                    validation_data=(test_sequences,\n",
    "                                     test_labels), \n",
    "                    verbose=2)"
   ]
  },
  {
   "cell_type": "code",
   "execution_count": 34,
   "id": "e23067c6-bbd7-40e7-bf67-d0cc5492590b",
   "metadata": {},
   "outputs": [
    {
     "name": "stdout",
     "output_type": "stream",
     "text": [
      "19/19 [==============================] - 0s 4ms/step\n"
     ]
    },
    {
     "name": "stderr",
     "output_type": "stream",
     "text": [
      "2023-08-16 02:11:52.833922: I tensorflow/core/grappler/optimizers/custom_graph_optimizer_registry.cc:114] Plugin optimizer for device_type GPU is enabled.\n",
      "2023-08-16 02:11:52.869094: I tensorflow/core/grappler/optimizers/custom_graph_optimizer_registry.cc:114] Plugin optimizer for device_type GPU is enabled.\n"
     ]
    }
   ],
   "source": [
    "#testing our model\n",
    "predictions = np.round(model.predict(test_sequences))"
   ]
  },
  {
   "cell_type": "markdown",
   "id": "ecd9db40-688a-4514-b81b-8aca921e6277",
   "metadata": {},
   "source": [
    "#### Evaluating results"
   ]
  },
  {
   "cell_type": "code",
   "execution_count": 866,
   "id": "9b0fee61-5a1c-4ec2-8a08-9b38f5d6fc23",
   "metadata": {},
   "outputs": [
    {
     "data": {
      "image/png": "[encoded data removed]",
      "text/plain": [
       "<Figure size 640x480 with 2 Axes>"
      ]
     },
     "metadata": {},
     "output_type": "display_data"
    }
   ],
   "source": [
    "from sklearn import metrics\n",
    "#visualizing our results through a confusion matrix\n",
    "confusion_matrix = metrics.confusion_matrix(test_labels, predictions)\n",
    "cm_display = metrics.ConfusionMatrixDisplay(confusion_matrix=confusion_matrix, display_labels = ['True','False'])\n",
    "cm_display.plot()\n",
    "plt.show()"
   ]
  },
  {
   "cell_type": "code",
   "execution_count": 880,
   "id": "5c30c4a3-25be-4f75-b779-6ea86a28b572",
   "metadata": {},
   "outputs": [
    {
     "name": "stdout",
     "output_type": "stream",
     "text": [
      "accuracy_score = 0.9092409240924092\n",
      "f1_score = 0.907563025210084\n"
     ]
    }
   ],
   "source": [
    "accuracy_score_tf = metrics.accuracy_score(test_labels, predictions)\n",
    "f1_score_tf = metrics.f1_score(test_labels, predictions)\n",
    "print('accuracy_score =',accuracy_score_tf)\n",
    "print('f1_score =', f1_score_tf)"
   ]
  },
  {
   "cell_type": "markdown",
   "id": "6f39f9a7-0963-4fa6-bedc-49a255a38b4e",
   "metadata": {},
   "source": [
    "#### 6. Training and testing a logistic regression model using TFIDF on the data"
   ]
  },
  {
   "cell_type": "markdown",
   "id": "b18ac617-4991-4332-9d34-621624df0511",
   "metadata": {},
   "source": [
    "TFIDF determines which words are the most important based on how many times they appear across all texts"
   ]
  },
  {
   "cell_type": "code",
   "execution_count": 840,
   "id": "ab43593a-7845-44d5-9833-12a672fd7b83",
   "metadata": {},
   "outputs": [],
   "source": [
    "#splitting up our data into training and testing data\n",
    "x_train, x_test, y_train, y_test = train_test_split(df['text'], df['label'], test_size=0.1)"
   ]
  },
  {
   "cell_type": "code",
   "execution_count": 841,
   "id": "478834f4-15de-438d-9867-4f2ae8c06dc4",
   "metadata": {},
   "outputs": [],
   "source": [
    "#turning our data into a weighted matrix where each row is a text and each column is a unique word in the text and each cell is that [text, word] TFIDF\n",
    "from sklearn.feature_extraction.text import TfidfVectorizer\n",
    "vector = TfidfVectorizer()\n",
    "x_tfidf_train = vector.fit_transform(x_train)\n",
    "x_tfidf_test = vector.transform(x_test)"
   ]
  },
  {
   "cell_type": "code",
   "execution_count": 842,
   "id": "9518a6fa-c9fd-4de9-8594-6df573ca226f",
   "metadata": {},
   "outputs": [
    {
     "data": {
      "text/html": [
       "<style>#sk-container-id-5 {color: black;}#sk-container-id-5 pre{padding: 0;}#sk-container-id-5 div.sk-toggleable {background-color: white;}#sk-container-id-5 label.sk-toggleable__label {cursor: pointer;display: block;width: 100%;margin-bottom: 0;padding: 0.3em;box-sizing: border-box;text-align: center;}#sk-container-id-5 label.sk-toggleable__label-arrow:before {content: \"▸\";float: left;margin-right: 0.25em;color: #696969;}#sk-container-id-5 label.sk-toggleable__label-arrow:hover:before {color: black;}#sk-container-id-5 div.sk-estimator:hover label.sk-toggleable__label-arrow:before {color: black;}#sk-container-id-5 div.sk-toggleable__content {max-height: 0;max-width: 0;overflow: hidden;text-align: left;background-color: #f0f8ff;}#sk-container-id-5 div.sk-toggleable__content pre {margin: 0.2em;color: black;border-radius: 0.25em;background-color: #f0f8ff;}#sk-container-id-5 input.sk-toggleable__control:checked~div.sk-toggleable__content {max-height: 200px;max-width: 100%;overflow: auto;}#sk-container-id-5 input.sk-toggleable__control:checked~label.sk-toggleable__label-arrow:before {content: \"▾\";}#sk-container-id-5 div.sk-estimator input.sk-toggleable__control:checked~label.sk-toggleable__label {background-color: #d4ebff;}#sk-container-id-5 div.sk-label input.sk-toggleable__control:checked~label.sk-toggleable__label {background-color: #d4ebff;}#sk-container-id-5 input.sk-hidden--visually {border: 0;clip: rect(1px 1px 1px 1px);clip: rect(1px, 1px, 1px, 1px);height: 1px;margin: -1px;overflow: hidden;padding: 0;position: absolute;width: 1px;}#sk-container-id-5 div.sk-estimator {font-family: monospace;background-color: #f0f8ff;border: 1px dotted black;border-radius: 0.25em;box-sizing: border-box;margin-bottom: 0.5em;}#sk-container-id-5 div.sk-estimator:hover {background-color: #d4ebff;}#sk-container-id-5 div.sk-parallel-item::after {content: \"\";width: 100%;border-bottom: 1px solid gray;flex-grow: 1;}#sk-container-id-5 div.sk-label:hover label.sk-toggleable__label {background-color: #d4ebff;}#sk-container-id-5 div.sk-serial::before {content: \"\";position: absolute;border-left: 1px solid gray;box-sizing: border-box;top: 0;bottom: 0;left: 50%;z-index: 0;}#sk-container-id-5 div.sk-serial {display: flex;flex-direction: column;align-items: center;background-color: white;padding-right: 0.2em;padding-left: 0.2em;position: relative;}#sk-container-id-5 div.sk-item {position: relative;z-index: 1;}#sk-container-id-5 div.sk-parallel {display: flex;align-items: stretch;justify-content: center;background-color: white;position: relative;}#sk-container-id-5 div.sk-item::before, #sk-container-id-5 div.sk-parallel-item::before {content: \"\";position: absolute;border-left: 1px solid gray;box-sizing: border-box;top: 0;bottom: 0;left: 50%;z-index: -1;}#sk-container-id-5 div.sk-parallel-item {display: flex;flex-direction: column;z-index: 1;position: relative;background-color: white;}#sk-container-id-5 div.sk-parallel-item:first-child::after {align-self: flex-end;width: 50%;}#sk-container-id-5 div.sk-parallel-item:last-child::after {align-self: flex-start;width: 50%;}#sk-container-id-5 div.sk-parallel-item:only-child::after {width: 0;}#sk-container-id-5 div.sk-dashed-wrapped {border: 1px dashed gray;margin: 0 0.4em 0.5em 0.4em;box-sizing: border-box;padding-bottom: 0.4em;background-color: white;}#sk-container-id-5 div.sk-label label {font-family: monospace;font-weight: bold;display: inline-block;line-height: 1.2em;}#sk-container-id-5 div.sk-label-container {text-align: center;}#sk-container-id-5 div.sk-container {/* jupyter's `normalize.less` sets `[hidden] { display: none; }` but bootstrap.min.css set `[hidden] { display: none !important; }` so we also need the `!important` here to be able to override the default hidden behavior on the sphinx rendered scikit-learn.org. See: https://github.com/scikit-learn/scikit-learn/issues/21755 */display: inline-block !important;position: relative;}#sk-container-id-5 div.sk-text-repr-fallback {display: none;}</style><div id=\"sk-container-id-5\" class=\"sk-top-container\"><div class=\"sk-text-repr-fallback\"><pre>LogisticRegression()</pre><b>In a Jupyter environment, please rerun this cell to show the HTML representation or trust the notebook. <br />On GitHub, the HTML representation is unable to render, please try loading this page with nbviewer.org.</b></div><div class=\"sk-container\" hidden><div class=\"sk-item\"><div class=\"sk-estimator sk-toggleable\"><input class=\"sk-toggleable__control sk-hidden--visually\" id=\"sk-estimator-id-5\" type=\"checkbox\" checked><label for=\"sk-estimator-id-5\" class=\"sk-toggleable__label sk-toggleable__label-arrow\">LogisticRegression</label><div class=\"sk-toggleable__content\"><pre>LogisticRegression()</pre></div></div></div></div></div>"
      ],
      "text/plain": [
       "LogisticRegression()"
      ]
     },
     "execution_count": 842,
     "metadata": {},
     "output_type": "execute_result"
    }
   ],
   "source": [
    "#performing logistic regression\n",
    "from sklearn.linear_model import LogisticRegression\n",
    "log_reg = LogisticRegression()\n",
    "log_reg.fit(x_tfidf_train, y_train)"
   ]
  },
  {
   "cell_type": "code",
   "execution_count": 872,
   "id": "9a55b644-7d4e-494d-b9d1-f79d2ffd82c2",
   "metadata": {},
   "outputs": [],
   "source": [
    "#predicting whether news is real or fake based off model\n",
    "predicted = log_reg.predict(x_tfidf_test)"
   ]
  },
  {
   "cell_type": "code",
   "execution_count": 871,
   "id": "cafe3b40-a79a-442d-a472-8af78705bc81",
   "metadata": {},
   "outputs": [
    {
     "data": {
      "image/png": "[encoded data removed]",
      "text/plain": [
       "<Figure size 640x480 with 2 Axes>"
      ]
     },
     "metadata": {},
     "output_type": "display_data"
    }
   ],
   "source": [
    "#visualize results using confusion matrix\n",
    "conf_matrix = metrics.confusion_matrix(y_test, predicted)\n",
    "cm = metrics.ConfusionMatrixDisplay(confusion_matrix=conf_matrix, display_labels=['True','False'])\n",
    "cm.plot()\n",
    "plt.show()"
   ]
  },
  {
   "cell_type": "code",
   "execution_count": 876,
   "id": "2d52386c-454f-4d1a-9cbc-61c5d16f5b76",
   "metadata": {},
   "outputs": [
    {
     "name": "stdout",
     "output_type": "stream",
     "text": [
      "accuracy_score = 0.9273927392739274\n",
      "f1_score = 0.9251700680272109\n"
     ]
    }
   ],
   "source": [
    "#accuracy of model\n",
    "accuracy_score_logreg = metrics.accuracy_score(predicted, y_test)\n",
    "f1_score_logreg = metrics.f1_score(predicted, y_test)\n",
    "print('accuracy_score =',accuracy_score_logreg)\n",
    "print('f1_score =',f1_score_logreg)"
   ]
  },
  {
   "cell_type": "markdown",
   "id": "412f5d93-f76c-4d49-a892-d2f530c49d79",
   "metadata": {},
   "source": [
    "## 7. Conclusion:"
   ]
  },
  {
   "cell_type": "markdown",
   "id": "e26cd2d6-9f67-4d4d-8376-b165297eda2e",
   "metadata": {},
   "source": [
    "#### As we can see, the logistic regression model slightly outperformed our Tensorflow model in terms of both accuracy and f1 score. In my opinion, they both worked very well and I am pleased with the outcome of this project. "
   ]
  },
  {
   "cell_type": "code",
   "execution_count": null,
   "id": "e448a237-0660-48b6-80f4-df8d064fe645",
   "metadata": {},
   "outputs": [],
   "source": []
  }
 ],
 "metadata": {
  "kernelspec": {
   "display_name": "Python 3.11 (tensorflow)",
   "language": "python",
   "name": "tensorflow"
  },
  "language_info": {
   "codemirror_mode": {
    "name": "ipython",
    "version": 3
   },
   "file_extension": ".py",
   "mimetype": "text/x-python",
   "name": "python",
   "nbconvert_exporter": "python",
   "pygments_lexer": "ipython3",
   "version": "3.10.12"
  }
 },
 "nbformat": 4,
 "nbformat_minor": 5
}
